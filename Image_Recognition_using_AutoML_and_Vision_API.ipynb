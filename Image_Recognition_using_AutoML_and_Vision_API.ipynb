{
  "nbformat": 4,
  "nbformat_minor": 0,
  "metadata": {
    "colab": {
      "name": "Image Recognition using AutoML and Vision API.ipynb",
      "version": "0.3.2",
      "provenance": []
    },
    "kernelspec": {
      "name": "python3",
      "display_name": "Python 3"
    }
  },
  "cells": [
    {
      "cell_type": "markdown",
      "metadata": {
        "id": "vscJCFR3urFf",
        "colab_type": "text"
      },
      "source": [
        "## Image Prediction using AutoML Vision"
      ]
    },
    {
      "cell_type": "markdown",
      "metadata": {
        "id": "anLucIpruzJ4",
        "colab_type": "text"
      },
      "source": [
        "### Uploading Images for training"
      ]
    },
    {
      "cell_type": "markdown",
      "metadata": {
        "id": "SJec4VhPsw8C",
        "colab_type": "text"
      },
      "source": [
        "![alt text](https://raw.githubusercontent.com/krithikaceg/Image_recognition_using_automl_vision_api/master/uploading_image_1.png)"
      ]
    },
    {
      "cell_type": "markdown",
      "metadata": {
        "id": "0b9H0-b4tPP3",
        "colab_type": "text"
      },
      "source": [
        "![alt text](https://raw.githubusercontent.com/krithikaceg/Image_recognition_using_automl_vision_api/master/uploading_image_2.png)"
      ]
    },
    {
      "cell_type": "code",
      "metadata": {
        "id": "-B6fI1MZlqWi",
        "colab_type": "code",
        "colab": {}
      },
      "source": [
        ""
      ],
      "execution_count": 0,
      "outputs": []
    },
    {
      "cell_type": "markdown",
      "metadata": {
        "id": "jUTCeWD4vN3y",
        "colab_type": "text"
      },
      "source": [
        "### After Training"
      ]
    },
    {
      "cell_type": "markdown",
      "metadata": {
        "id": "FUoLJKL2tPr4",
        "colab_type": "text"
      },
      "source": [
        "![alt text](https://raw.githubusercontent.com/krithikaceg/Image_recognition_using_automl_vision_api/master/after_training.png)"
      ]
    },
    {
      "cell_type": "markdown",
      "metadata": {
        "id": "bnrw8uCevShs",
        "colab_type": "text"
      },
      "source": [
        "### Model Evaluation"
      ]
    },
    {
      "cell_type": "markdown",
      "metadata": {
        "id": "pXbZH2iutQBY",
        "colab_type": "text"
      },
      "source": [
        "![alt text](https://raw.githubusercontent.com/krithikaceg/Image_recognition_using_automl_vision_api/master/model_evaluation.png)"
      ]
    },
    {
      "cell_type": "markdown",
      "metadata": {
        "id": "NJY_SJsCt-TJ",
        "colab_type": "text"
      },
      "source": [
        "## Predicting image using Vision API"
      ]
    },
    {
      "cell_type": "code",
      "metadata": {
        "id": "NxI3eyUiOcjU",
        "colab_type": "code",
        "outputId": "387c2e26-f120-4571-a1f6-e05277fe5a6e",
        "colab": {
          "base_uri": "https://localhost:8080/",
          "height": 274
        }
      },
      "source": [
        "from google.colab import drive\n",
        "drive.mount('/content/gdrive', force_remount=True)"
      ],
      "execution_count": 0,
      "outputs": [
        {
          "output_type": "stream",
          "text": [
            "Go to this URL in a browser: https://accounts.google.com/o/oauth2/auth?client_id=947318989803-6bn6qk8qdgf4n4g3pfee6491hc0brc4i.apps.googleusercontent.com&redirect_uri=urn%3Aietf%3Awg%3Aoauth%3A2.0%3Aoob&scope=email%20https%3A%2F%2Fwww.googleapis.com%2Fauth%2Fdocs.test%20https%3A%2F%2Fwww.googleapis.com%2Fauth%2Fdrive%20https%3A%2F%2Fwww.googleapis.com%2Fauth%2Fdrive.photos.readonly%20https%3A%2F%2Fwww.googleapis.com%2Fauth%2Fpeopleapi.readonly&response_type=code\n",
            "\n",
            "Enter your authorization code:\n",
            "··········\n",
            "Mounted at /content/gdrive\n"
          ],
          "name": "stdout"
        }
      ]
    },
    {
      "cell_type": "code",
      "metadata": {
        "id": "KaBrEIcBSZ2g",
        "colab_type": "code",
        "outputId": "531f624a-2577-42a4-bfbd-7564bb2fb06e",
        "colab": {
          "base_uri": "https://localhost:8080/",
          "height": 391
        }
      },
      "source": [
        "import os;os.listdir(\"/content/gdrive/My Drive/Colab Notebooks\")"
      ],
      "execution_count": 0,
      "outputs": [
        {
          "output_type": "execute_result",
          "data": {
            "text/plain": [
              "['Untitled0.ipynb',\n",
              " 'bigdata-assignment1.ipynb',\n",
              " 'BAX-452-titanic-assignment1.ipynb',\n",
              " 'my-titanic-trial-submission.ipynb',\n",
              " 'wine_popularity.ipynb',\n",
              " 'Untitled1.ipynb',\n",
              " 'Untitled2.ipynb',\n",
              " 'file_observer.ipynb',\n",
              " 'weight_prediction.ipynb',\n",
              " 'explore_zillow_data_sets.ipynb',\n",
              " 'Copy of house_price-time_series.ipynb',\n",
              " 'house_price-time_series.ipynb',\n",
              " 'Classification_of_digits.ipynb',\n",
              " 'python_machine_learning_book_regression.ipynb',\n",
              " 'Big Data',\n",
              " 'world_food_facts_features.ipynb',\n",
              " 'Copy of unlabeled_data.ipynb',\n",
              " 'unlabeled_data.ipynb',\n",
              " 'waste_management.ipynb',\n",
              " 'Untitled3.ipynb',\n",
              " 'Untitled4.ipynb',\n",
              " 'flower-image-project-a204243953c2.json']"
            ]
          },
          "metadata": {
            "tags": []
          },
          "execution_count": 3
        }
      ]
    },
    {
      "cell_type": "markdown",
      "metadata": {
        "id": "j2kyKRUkuZyF",
        "colab_type": "text"
      },
      "source": [
        "### Activating gcloud service and installing google cloud vision"
      ]
    },
    {
      "cell_type": "code",
      "metadata": {
        "id": "07G6Pi8ETO0b",
        "colab_type": "code",
        "outputId": "259bea38-4b33-4429-9d5e-9b2a0b0ccbb4",
        "colab": {
          "base_uri": "https://localhost:8080/",
          "height": 63
        }
      },
      "source": [
        "!export GOOGLE_APPLICATION_CREDENTIALS=\"/content/gdrive/My\\ Drive/Colab\\ Notebooks/flower-image-project-a204243953c2.json\"\n",
        "!gcloud auth activate-service-account --key-file /content/gdrive/My\\ Drive/Colab\\ Notebooks/flower-image-project-a204243953c2.json\n",
        "!pip install --upgrade -q google-cloud-vision"
      ],
      "execution_count": 0,
      "outputs": [
        {
          "output_type": "stream",
          "text": [
            "Activated service account credentials for: [flower-account@flower-image-project.iam.gserviceaccount.com]\n"
          ],
          "name": "stdout"
        }
      ]
    },
    {
      "cell_type": "markdown",
      "metadata": {
        "id": "6H6G1OHluheO",
        "colab_type": "text"
      },
      "source": [
        "### Image prediction using API call"
      ]
    },
    {
      "cell_type": "code",
      "metadata": {
        "id": "aYkQij67TnAx",
        "colab_type": "code",
        "outputId": "f877d7c6-4b67-4351-ca38-ac4d062ac004",
        "colab": {
          "base_uri": "https://localhost:8080/",
          "height": 204
        }
      },
      "source": [
        "import io\n",
        "import os\n",
        "\n",
        "os.environ[\"GOOGLE_APPLICATION_CREDENTIALS\"]=\"/content/gdrive/My Drive/Colab Notebooks/flower-image-project-a204243953c2.json\"\n",
        "\n",
        "# Imports the Google Cloud client library\n",
        "from google.cloud import vision\n",
        "from google.cloud.vision import types\n",
        "\n",
        "# Instantiates a client\n",
        "client = vision.ImageAnnotatorClient()\n",
        "\n",
        "# The name of the image file to annotate\n",
        "file_name = 'red-rose-image.jpg'\n",
        "\n",
        "# Loads the image into memory\n",
        "with io.open(file_name, 'rb') as image_file:\n",
        "    content = image_file.read()\n",
        "\n",
        "image = types.Image(content=content)\n",
        "\n",
        "# Performs label detection on the image file\n",
        "response = client.label_detection(image=image)\n",
        "labels = response.label_annotations\n",
        "\n",
        "print('Labels:')\n",
        "for label in labels:\n",
        "    print(label.description)"
      ],
      "execution_count": 0,
      "outputs": [
        {
          "output_type": "stream",
          "text": [
            "Labels:\n",
            "Flower\n",
            "Rose\n",
            "Garden roses\n",
            "Flowering plant\n",
            "Petal\n",
            "Red\n",
            "Floribunda\n",
            "Plant\n",
            "Rose family\n",
            "Pink\n"
          ],
          "name": "stdout"
        }
      ]
    }
  ]
}